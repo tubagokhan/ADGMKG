{
 "cells": [
  {
   "cell_type": "code",
   "execution_count": 4,
   "id": "dfd020ae-a9ea-4f6b-96e6-0485ca570c30",
   "metadata": {},
   "outputs": [
    {
     "name": "stdout",
     "output_type": "stream",
     "text": [
      "Dummy documents, paragraphs, and sentences created in the 'Documents' database.\n",
      "Document: Sample Document 1, Paragraph: Paragraph 1 of Document 1, Sentence: Sentence 1 of Paragraph 1\n",
      "Document: Sample Document 1, Paragraph: Paragraph 1 of Document 1, Sentence: Sentence 2 of Paragraph 1\n",
      "Document: Sample Document 1, Paragraph: Paragraph 2 of Document 1, Sentence: Sentence 1 of Paragraph 2\n",
      "Document: Sample Document 1, Paragraph: Paragraph 2 of Document 1, Sentence: Sentence 2 of Paragraph 2\n"
     ]
    }
   ],
   "source": [
    "from neo4j import GraphDatabase\n",
    "\n",
    "# Function to create a connection to the Neo4j database\n",
    "def create_connection(uri, user, password, database):\n",
    "    driver = GraphDatabase.driver(uri, auth=(user, password))\n",
    "    return driver.session(database=database)\n",
    "\n",
    "# Function to create dummy data for documents, paragraphs, and sentences\n",
    "def create_dummy_data(session):\n",
    "    # Create a document with paragraphs and sentences\n",
    "    session.run(\"\"\"\n",
    "    CREATE (doc:Document {title: 'Sample Document 1'})\n",
    "    CREATE (p1:Paragraph {text: 'Paragraph 1 of Document 1'})\n",
    "    CREATE (p2:Paragraph {text: 'Paragraph 2 of Document 1'})\n",
    "    CREATE (s1:Sentence {text: 'Sentence 1 of Paragraph 1'})\n",
    "    CREATE (s2:Sentence {text: 'Sentence 2 of Paragraph 1'})\n",
    "    CREATE (s3:Sentence {text: 'Sentence 1 of Paragraph 2'})\n",
    "    CREATE (s4:Sentence {text: 'Sentence 2 of Paragraph 2'})\n",
    "    MERGE (doc)-[:CONTAINS]->(p1)-[:CONTAINS]->(s1)\n",
    "    MERGE (p1)-[:CONTAINS]->(s2)\n",
    "    MERGE (doc)-[:CONTAINS]->(p2)-[:CONTAINS]->(s3)\n",
    "    MERGE (p2)-[:CONTAINS]->(s4)\n",
    "    \"\"\")\n",
    "    print(\"Dummy documents, paragraphs, and sentences created in the 'Documents' database.\")\n",
    "\n",
    "# Function to fetch documents and their content from the database\n",
    "def fetch_data(session):\n",
    "    result = session.run(\"\"\"\n",
    "    MATCH (doc:Document)-[:CONTAINS]->(p:Paragraph)-[:CONTAINS]->(s:Sentence)\n",
    "    RETURN doc.title, p.text, s.text\n",
    "    ORDER BY doc.title, p.text, s.text\n",
    "    \"\"\")\n",
    "    for record in result:\n",
    "        print(f\"Document: {record['doc.title']}, Paragraph: {record['p.text']}, Sentence: {record['s.text']}\")\n",
    "\n",
    "# Main function to connect to the 'Documents' database and execute functions\n",
    "def main():\n",
    "    uri = \"bolt://localhost:7687\"\n",
    "    user = \"neo4j\"\n",
    "    password = \"12345678\"\n",
    "    database = \"documents\"\n",
    "\n",
    "    session = create_connection(uri, user, password, database)\n",
    "    try:\n",
    "        create_dummy_data(session)\n",
    "        fetch_data(session)\n",
    "    finally:\n",
    "        session.close()\n",
    "\n",
    "if __name__ == \"__main__\":\n",
    "    main()\n"
   ]
  },
  {
   "cell_type": "code",
   "execution_count": null,
   "id": "35dc37d0-2662-4681-b3fd-1b51ed5a9bb2",
   "metadata": {},
   "outputs": [],
   "source": []
  }
 ],
 "metadata": {
  "kernelspec": {
   "display_name": "Python 3 (ipykernel)",
   "language": "python",
   "name": "python3"
  },
  "language_info": {
   "codemirror_mode": {
    "name": "ipython",
    "version": 3
   },
   "file_extension": ".py",
   "mimetype": "text/x-python",
   "name": "python",
   "nbconvert_exporter": "python",
   "pygments_lexer": "ipython3",
   "version": "3.11.7"
  }
 },
 "nbformat": 4,
 "nbformat_minor": 5
}
